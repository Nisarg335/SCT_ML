{
 "cells": [
  {
   "cell_type": "code",
   "execution_count": 2,
   "id": "e0117b29-787f-420d-bb06-3cfc59c6e5c1",
   "metadata": {
    "scrolled": true
   },
   "outputs": [
    {
     "name": "stdout",
     "output_type": "stream",
     "text": [
      "📥 Loading and preprocessing images...\n"
     ]
    },
    {
     "name": "stderr",
     "output_type": "stream",
     "text": [
      "  8%|██████                                                                      | 1000/12501 [00:02<00:30, 379.14it/s]\n",
      "  8%|██████▏                                                                      | 999/12501 [00:02<00:31, 363.37it/s]\n"
     ]
    },
    {
     "name": "stdout",
     "output_type": "stream",
     "text": [
      "✅ Total images loaded: 2000\n",
      "🔄 Applying PCA...\n",
      "✅ PCA completed.\n",
      "🚀 Training SVM (Linear)...\n",
      "✅ SVM trained in 0.06 seconds.\n",
      "\n",
      "📊 Classification Report:\n",
      "              precision    recall  f1-score   support\n",
      "\n",
      "           0       0.54      0.60      0.57       199\n",
      "           1       0.56      0.50      0.53       201\n",
      "\n",
      "    accuracy                           0.55       400\n",
      "   macro avg       0.55      0.55      0.55       400\n",
      "weighted avg       0.55      0.55      0.55       400\n",
      "\n",
      "🎯 Accuracy: 55.00%\n"
     ]
    }
   ],
   "source": [
    "import os\n",
    "import cv2\n",
    "import numpy as np\n",
    "from tqdm import tqdm\n",
    "import time\n",
    "from sklearn.model_selection import train_test_split\n",
    "from sklearn.decomposition import PCA\n",
    "from sklearn.svm import LinearSVC\n",
    "from sklearn.metrics import classification_report, accuracy_score\n",
    "\n",
    "# === Step 1: Load and preprocess images ===\n",
    "base_path = \"PetImages\"\n",
    "categories = [\"Cat\", \"Dog\"]\n",
    "img_size = 64\n",
    "limit = 1000  # Number of images per class\n",
    "\n",
    "data = []\n",
    "labels = []\n",
    "\n",
    "print(\"📥 Loading and preprocessing images...\")\n",
    "\n",
    "for category in categories:\n",
    "    path = os.path.join(base_path, category)\n",
    "    class_label = 0 if category == \"Cat\" else 1\n",
    "    count = 0\n",
    "\n",
    "    for img_name in tqdm(os.listdir(path)):\n",
    "        try:\n",
    "            img_path = os.path.join(path, img_name)\n",
    "            img = cv2.imread(img_path)\n",
    "            if img is None:\n",
    "                continue\n",
    "\n",
    "            img = cv2.cvtColor(img, cv2.COLOR_BGR2GRAY)  # Grayscale\n",
    "            img = cv2.resize(img, (img_size, img_size))  # Resize\n",
    "            img = cv2.equalizeHist(img)  # Histogram equalization\n",
    "\n",
    "            data.append(img.flatten())  # Flatten to 1D\n",
    "            labels.append(class_label)\n",
    "            count += 1\n",
    "            if count >= limit:\n",
    "                break\n",
    "        except:\n",
    "            continue\n",
    "\n",
    "print(f\"✅ Total images loaded: {len(data)}\")\n",
    "\n",
    "# === Step 2: Convert to NumPy arrays ===\n",
    "X = np.array(data)\n",
    "y = np.array(labels)\n",
    "\n",
    "# === Step 3: Train-test split ===\n",
    "X_train, X_test, y_train, y_test = train_test_split(\n",
    "    X, y, test_size=0.2, random_state=42\n",
    ")\n",
    "\n",
    "# === Step 4: PCA to reduce dimensions ===\n",
    "print(\"🔄 Applying PCA...\")\n",
    "pca = PCA(n_components=100)\n",
    "X_train = pca.fit_transform(X_train)\n",
    "X_test = pca.transform(X_test)\n",
    "print(\"✅ PCA completed.\")\n",
    "\n",
    "# === Step 5: Train SVM ===\n",
    "print(\"🚀 Training SVM (Linear)...\")\n",
    "start = time.time()\n",
    "model = LinearSVC(max_iter=2000)\n",
    "model.fit(X_train, y_train)\n",
    "end = time.time()\n",
    "print(f\"✅ SVM trained in {end - start:.2f} seconds.\")\n",
    "\n",
    "# === Step 6: Evaluate ===\n",
    "y_pred = model.predict(X_test)\n",
    "print(\"\\n📊 Classification Report:\")\n",
    "print(classification_report(y_test, y_pred))\n",
    "print(f\"🎯 Accuracy: {accuracy_score(y_test, y_pred) * 100:.2f}%\")\n"
   ]
  },
  {
   "cell_type": "code",
   "execution_count": null,
   "id": "c091f2c1-a165-4c6a-bbcd-42b8d843dbe5",
   "metadata": {},
   "outputs": [],
   "source": []
  }
 ],
 "metadata": {
  "kernelspec": {
   "display_name": "Python [conda env:base] *",
   "language": "python",
   "name": "conda-base-py"
  },
  "language_info": {
   "codemirror_mode": {
    "name": "ipython",
    "version": 3
   },
   "file_extension": ".py",
   "mimetype": "text/x-python",
   "name": "python",
   "nbconvert_exporter": "python",
   "pygments_lexer": "ipython3",
   "version": "3.13.5"
  }
 },
 "nbformat": 4,
 "nbformat_minor": 5
}
